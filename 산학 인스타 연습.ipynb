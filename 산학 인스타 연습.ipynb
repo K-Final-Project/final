{
 "cells": [
  {
   "cell_type": "code",
   "execution_count": 2,
   "metadata": {},
   "outputs": [],
   "source": [
    "from bs4 import BeautifulSoup\n",
    "import selenium.webdriver as webdriver\n",
    "from selenium.webdriver import ActionChains\n",
    "from selenium.webdriver.common.keys import Keys\n",
    "from selenium.webdriver.common.by import By\n",
    "import urllib.parse\n",
    "from urllib.request import Request, urlopen\n",
    "import time\n",
    "import pandas as pd\n",
    "import psycopg2"
   ]
  },
  {
   "cell_type": "markdown",
   "metadata": {},
   "source": [
    "## 인스타그램 검색어로 찾기"
   ]
  },
  {
   "cell_type": "code",
   "execution_count": 3,
   "metadata": {},
   "outputs": [],
   "source": [
    "search = input(\"검색어를 입력하세요 : \" )\n",
    "searching = str(search)\n",
    "search = urllib.parse.quote(search)\n",
    "url = 'https://www.instagram.com/explore/tags/'+str(search)+'/'\n",
    "driver = webdriver.Chrome()\n",
    "\n",
    "driver.get(url) #검색어 입력한 인스타그램 url 저장\n",
    "time.sleep(6) #로딩 시간을 위한 속도조절 \n",
    "\n",
    "SCROLL_PAUSE_TIME = 1.2  #인스타게시물 스크롤 속도 조절 ( 1.0 ~ 2.0까지 사양에 맞게 조절 )"
   ]
  },
  {
   "cell_type": "markdown",
   "metadata": {},
   "source": [
    "## 로그인"
   ]
  },
  {
   "cell_type": "code",
   "execution_count": 5,
   "metadata": {},
   "outputs": [
    {
     "ename": "NoSuchElementException",
     "evalue": "Message: no such element: Unable to locate element: {\"method\":\"xpath\",\"selector\":\"//*[@id=\"react-root\"]/section/nav/div[2]/div/div/div[3]/div/span/a[1]/button/div\"}\n  (Session info: chrome=100.0.4896.127)\nStacktrace:\nBacktrace:\n\tOrdinal0 [0x00667413+2389011]\n\tOrdinal0 [0x005F9F61+1941345]\n\tOrdinal0 [0x004EC658+837208]\n\tOrdinal0 [0x005191DD+1020381]\n\tOrdinal0 [0x0051949B+1021083]\n\tOrdinal0 [0x00546032+1204274]\n\tOrdinal0 [0x00534194+1130900]\n\tOrdinal0 [0x00544302+1196802]\n\tOrdinal0 [0x00533F66+1130342]\n\tOrdinal0 [0x0050E546+976198]\n\tOrdinal0 [0x0050F456+980054]\n\tGetHandleVerifier [0x00819632+1727522]\n\tGetHandleVerifier [0x008CBA4D+2457661]\n\tGetHandleVerifier [0x006FEB81+569713]\n\tGetHandleVerifier [0x006FDD76+566118]\n\tOrdinal0 [0x00600B2B+1968939]\n\tOrdinal0 [0x00605988+1989000]\n\tOrdinal0 [0x00605A75+1989237]\n\tOrdinal0 [0x0060ECB1+2026673]\n\tBaseThreadInitThunk [0x7605FA29+25]\n\tRtlGetAppContainerNamedObjectPath [0x77B77A7E+286]\n\tRtlGetAppContainerNamedObjectPath [0x77B77A4E+238]\n",
     "output_type": "error",
     "traceback": [
      "\u001b[1;31m---------------------------------------------------------------------------\u001b[0m",
      "\u001b[1;31mNoSuchElementException\u001b[0m                    Traceback (most recent call last)",
      "\u001b[1;32m~\\AppData\\Local\\Temp/ipykernel_19800/2739014650.py\u001b[0m in \u001b[0;36m<module>\u001b[1;34m\u001b[0m\n\u001b[1;32m----> 1\u001b[1;33m \u001b[0mdriver\u001b[0m\u001b[1;33m.\u001b[0m\u001b[0mfind_element\u001b[0m\u001b[1;33m(\u001b[0m\u001b[0mBy\u001b[0m\u001b[1;33m.\u001b[0m\u001b[0mXPATH\u001b[0m\u001b[1;33m,\u001b[0m \u001b[1;34m'//*[@id=\"react-root\"]/section/nav/div[2]/div/div/div[3]/div/span/a[1]/button/div'\u001b[0m\u001b[1;33m)\u001b[0m\u001b[1;33m.\u001b[0m\u001b[0mclick\u001b[0m\u001b[1;33m(\u001b[0m\u001b[1;33m)\u001b[0m\u001b[1;31m# 로그인 박스 클릭\u001b[0m\u001b[1;33m\u001b[0m\u001b[1;33m\u001b[0m\u001b[0m\n\u001b[0m\u001b[0;32m      2\u001b[0m \u001b[0musername\u001b[0m \u001b[1;33m=\u001b[0m \u001b[0minput\u001b[0m\u001b[1;33m(\u001b[0m\u001b[1;33m)\u001b[0m\u001b[1;33m\u001b[0m\u001b[1;33m\u001b[0m\u001b[0m\n\u001b[0;32m      3\u001b[0m \u001b[0mpassword\u001b[0m \u001b[1;33m=\u001b[0m \u001b[0minput\u001b[0m\u001b[1;33m(\u001b[0m\u001b[1;33m)\u001b[0m                                                                                  \u001b[1;31m# 로그인 아이디,패스워드 입력\u001b[0m\u001b[1;33m\u001b[0m\u001b[1;33m\u001b[0m\u001b[0m\n\u001b[0;32m      4\u001b[0m \u001b[0mdriver\u001b[0m\u001b[1;33m.\u001b[0m\u001b[0mfind_element\u001b[0m\u001b[1;33m(\u001b[0m\u001b[0mBy\u001b[0m\u001b[1;33m.\u001b[0m\u001b[0mXPATH\u001b[0m\u001b[1;33m,\u001b[0m \u001b[1;34m'//*[@id=\"loginForm\"]/div/div[1]/div/label/input'\u001b[0m\u001b[1;33m)\u001b[0m\u001b[1;33m.\u001b[0m\u001b[0mclick\u001b[0m\u001b[1;33m(\u001b[0m\u001b[1;33m)\u001b[0m            \u001b[1;31m# ID 공란 클릭\u001b[0m\u001b[1;33m\u001b[0m\u001b[1;33m\u001b[0m\u001b[0m\n\u001b[0;32m      5\u001b[0m \u001b[0mID\u001b[0m \u001b[1;33m=\u001b[0m \u001b[0mdriver\u001b[0m\u001b[1;33m.\u001b[0m\u001b[0mfind_element\u001b[0m\u001b[1;33m(\u001b[0m\u001b[0mBy\u001b[0m\u001b[1;33m.\u001b[0m\u001b[0mXPATH\u001b[0m\u001b[1;33m,\u001b[0m \u001b[1;34m'//*[@id=\"loginForm\"]/div/div[1]/div/label/input'\u001b[0m\u001b[1;33m)\u001b[0m\u001b[1;33m\u001b[0m\u001b[1;33m\u001b[0m\u001b[0m\n",
      "\u001b[1;32m~\\anaconda3\\lib\\site-packages\\selenium\\webdriver\\remote\\webdriver.py\u001b[0m in \u001b[0;36mfind_element\u001b[1;34m(self, by, value)\u001b[0m\n\u001b[0;32m   1242\u001b[0m             \u001b[0mvalue\u001b[0m \u001b[1;33m=\u001b[0m \u001b[1;34m'[name=\"%s\"]'\u001b[0m \u001b[1;33m%\u001b[0m \u001b[0mvalue\u001b[0m\u001b[1;33m\u001b[0m\u001b[1;33m\u001b[0m\u001b[0m\n\u001b[0;32m   1243\u001b[0m \u001b[1;33m\u001b[0m\u001b[0m\n\u001b[1;32m-> 1244\u001b[1;33m         return self.execute(Command.FIND_ELEMENT, {\n\u001b[0m\u001b[0;32m   1245\u001b[0m             \u001b[1;34m'using'\u001b[0m\u001b[1;33m:\u001b[0m \u001b[0mby\u001b[0m\u001b[1;33m,\u001b[0m\u001b[1;33m\u001b[0m\u001b[1;33m\u001b[0m\u001b[0m\n\u001b[0;32m   1246\u001b[0m             'value': value})['value']\n",
      "\u001b[1;32m~\\anaconda3\\lib\\site-packages\\selenium\\webdriver\\remote\\webdriver.py\u001b[0m in \u001b[0;36mexecute\u001b[1;34m(self, driver_command, params)\u001b[0m\n\u001b[0;32m    422\u001b[0m         \u001b[0mresponse\u001b[0m \u001b[1;33m=\u001b[0m \u001b[0mself\u001b[0m\u001b[1;33m.\u001b[0m\u001b[0mcommand_executor\u001b[0m\u001b[1;33m.\u001b[0m\u001b[0mexecute\u001b[0m\u001b[1;33m(\u001b[0m\u001b[0mdriver_command\u001b[0m\u001b[1;33m,\u001b[0m \u001b[0mparams\u001b[0m\u001b[1;33m)\u001b[0m\u001b[1;33m\u001b[0m\u001b[1;33m\u001b[0m\u001b[0m\n\u001b[0;32m    423\u001b[0m         \u001b[1;32mif\u001b[0m \u001b[0mresponse\u001b[0m\u001b[1;33m:\u001b[0m\u001b[1;33m\u001b[0m\u001b[1;33m\u001b[0m\u001b[0m\n\u001b[1;32m--> 424\u001b[1;33m             \u001b[0mself\u001b[0m\u001b[1;33m.\u001b[0m\u001b[0merror_handler\u001b[0m\u001b[1;33m.\u001b[0m\u001b[0mcheck_response\u001b[0m\u001b[1;33m(\u001b[0m\u001b[0mresponse\u001b[0m\u001b[1;33m)\u001b[0m\u001b[1;33m\u001b[0m\u001b[1;33m\u001b[0m\u001b[0m\n\u001b[0m\u001b[0;32m    425\u001b[0m             response['value'] = self._unwrap_value(\n\u001b[0;32m    426\u001b[0m                 response.get('value', None))\n",
      "\u001b[1;32m~\\anaconda3\\lib\\site-packages\\selenium\\webdriver\\remote\\errorhandler.py\u001b[0m in \u001b[0;36mcheck_response\u001b[1;34m(self, response)\u001b[0m\n\u001b[0;32m    245\u001b[0m                 \u001b[0malert_text\u001b[0m \u001b[1;33m=\u001b[0m \u001b[0mvalue\u001b[0m\u001b[1;33m[\u001b[0m\u001b[1;34m'alert'\u001b[0m\u001b[1;33m]\u001b[0m\u001b[1;33m.\u001b[0m\u001b[0mget\u001b[0m\u001b[1;33m(\u001b[0m\u001b[1;34m'text'\u001b[0m\u001b[1;33m)\u001b[0m\u001b[1;33m\u001b[0m\u001b[1;33m\u001b[0m\u001b[0m\n\u001b[0;32m    246\u001b[0m             \u001b[1;32mraise\u001b[0m \u001b[0mexception_class\u001b[0m\u001b[1;33m(\u001b[0m\u001b[0mmessage\u001b[0m\u001b[1;33m,\u001b[0m \u001b[0mscreen\u001b[0m\u001b[1;33m,\u001b[0m \u001b[0mstacktrace\u001b[0m\u001b[1;33m,\u001b[0m \u001b[0malert_text\u001b[0m\u001b[1;33m)\u001b[0m  \u001b[1;31m# type: ignore[call-arg]  # mypy is not smart enough here\u001b[0m\u001b[1;33m\u001b[0m\u001b[1;33m\u001b[0m\u001b[0m\n\u001b[1;32m--> 247\u001b[1;33m         \u001b[1;32mraise\u001b[0m \u001b[0mexception_class\u001b[0m\u001b[1;33m(\u001b[0m\u001b[0mmessage\u001b[0m\u001b[1;33m,\u001b[0m \u001b[0mscreen\u001b[0m\u001b[1;33m,\u001b[0m \u001b[0mstacktrace\u001b[0m\u001b[1;33m)\u001b[0m\u001b[1;33m\u001b[0m\u001b[1;33m\u001b[0m\u001b[0m\n\u001b[0m\u001b[0;32m    248\u001b[0m \u001b[1;33m\u001b[0m\u001b[0m\n\u001b[0;32m    249\u001b[0m     \u001b[1;32mdef\u001b[0m \u001b[0m_value_or_default\u001b[0m\u001b[1;33m(\u001b[0m\u001b[0mself\u001b[0m\u001b[1;33m,\u001b[0m \u001b[0mobj\u001b[0m\u001b[1;33m:\u001b[0m \u001b[0mMapping\u001b[0m\u001b[1;33m[\u001b[0m\u001b[0m_KT\u001b[0m\u001b[1;33m,\u001b[0m \u001b[0m_VT\u001b[0m\u001b[1;33m]\u001b[0m\u001b[1;33m,\u001b[0m \u001b[0mkey\u001b[0m\u001b[1;33m:\u001b[0m \u001b[0m_KT\u001b[0m\u001b[1;33m,\u001b[0m \u001b[0mdefault\u001b[0m\u001b[1;33m:\u001b[0m \u001b[0m_VT\u001b[0m\u001b[1;33m)\u001b[0m \u001b[1;33m->\u001b[0m \u001b[0m_VT\u001b[0m\u001b[1;33m:\u001b[0m\u001b[1;33m\u001b[0m\u001b[1;33m\u001b[0m\u001b[0m\n",
      "\u001b[1;31mNoSuchElementException\u001b[0m: Message: no such element: Unable to locate element: {\"method\":\"xpath\",\"selector\":\"//*[@id=\"react-root\"]/section/nav/div[2]/div/div/div[3]/div/span/a[1]/button/div\"}\n  (Session info: chrome=100.0.4896.127)\nStacktrace:\nBacktrace:\n\tOrdinal0 [0x00667413+2389011]\n\tOrdinal0 [0x005F9F61+1941345]\n\tOrdinal0 [0x004EC658+837208]\n\tOrdinal0 [0x005191DD+1020381]\n\tOrdinal0 [0x0051949B+1021083]\n\tOrdinal0 [0x00546032+1204274]\n\tOrdinal0 [0x00534194+1130900]\n\tOrdinal0 [0x00544302+1196802]\n\tOrdinal0 [0x00533F66+1130342]\n\tOrdinal0 [0x0050E546+976198]\n\tOrdinal0 [0x0050F456+980054]\n\tGetHandleVerifier [0x00819632+1727522]\n\tGetHandleVerifier [0x008CBA4D+2457661]\n\tGetHandleVerifier [0x006FEB81+569713]\n\tGetHandleVerifier [0x006FDD76+566118]\n\tOrdinal0 [0x00600B2B+1968939]\n\tOrdinal0 [0x00605988+1989000]\n\tOrdinal0 [0x00605A75+1989237]\n\tOrdinal0 [0x0060ECB1+2026673]\n\tBaseThreadInitThunk [0x7605FA29+25]\n\tRtlGetAppContainerNamedObjectPath [0x77B77A7E+286]\n\tRtlGetAppContainerNamedObjectPath [0x77B77A4E+238]\n"
     ]
    }
   ],
   "source": [
    "driver.find_element(By.XPATH, '//*[@id=\"react-root\"]/section/nav/div[2]/div/div/div[3]/div/span/a[1]/button/div').click()# 로그인 박스 클릭\n",
    "username = input()\n",
    "password = input()                                                                                  # 로그인 아이디,패스워드 입력 \n",
    "driver.find_element(By.XPATH, '//*[@id=\"loginForm\"]/div/div[1]/div/label/input').click()            # ID 공란 클릭\n",
    "ID = driver.find_element(By.XPATH, '//*[@id=\"loginForm\"]/div/div[1]/div/label/input')\n",
    "ID.send_keys(username)                                                                              # 아이디 입력\n",
    "driver.find_element(By.XPATH, '//*[@id=\"loginForm\"]/div/div[2]/div/label/input').click()            # password 공란 클릭\n",
    "passkey=driver.find_element(By.XPATH, '//*[@id=\"loginForm\"]/div/div[2]/div/label/input')\n",
    "passkey.send_keys(password)                                                                         # 패스워드 입력\n",
    "time.sleep(1)                                                           \n",
    "driver.find_element(By.XPATH, '//*[@id=\"loginForm\"]/div/div[3]/button/div').click()                 # 로그인\n",
    "time.sleep(5)                                                                                       # 로딩 대기 시간\n",
    "driver.find_element(By.XPATH, '//*[@id=\"react-root\"]/section/main/div/div/div/div/button').click()  # 로그인 이후 뜨는 정보저장 무시"
   ]
  },
  {
   "cell_type": "markdown",
   "metadata": {},
   "source": [
    "## 게시글 클릭하여 본문과 댓글 크롤링"
   ]
  },
  {
   "cell_type": "code",
   "execution_count": 6,
   "metadata": {},
   "outputs": [],
   "source": [
    "time.sleep(7)  \n",
    "driver.find_element(By.CLASS_NAME,'_9AhH0').click()  # 첫게시글 클릭"
   ]
  },
  {
   "cell_type": "code",
   "execution_count": 7,
   "metadata": {},
   "outputs": [
    {
     "data": {
      "text/plain": [
       "['💚\\n📷Photo by @iamyonghoon\\n🏕발할\\n#helsport#헬스포츠\\n#camping#캠핑\\n#발할#김레#패스빅\\n#바랑에르캠프#바랑에르돔\\n#헬스포츠텐트\\n#감성캠핑#밀리캠핑#텐풍\\n#헬스포츠크루']"
      ]
     },
     "execution_count": 7,
     "metadata": {},
     "output_type": "execute_result"
    }
   ],
   "source": [
    "post = []\n",
    "post.append(driver.find_element(By.CLASS_NAME, '_7UhW9.xLCgt.MMzan.KV-D4.se6yk.T0kll').text)  # 인스타 본문 내용 저장하기\n",
    "post"
   ]
  },
  {
   "cell_type": "code",
   "execution_count": 64,
   "metadata": {},
   "outputs": [
    {
     "name": "stdout",
     "output_type": "stream",
     "text": [
      "일단 레쓰고고이죠 🤭🤭🥰🥰\n",
      "5월은 캠핑일정 중에 젤 바쁜날같아요ㅋㅋ\n"
     ]
    }
   ],
   "source": [
    "# 인스타 댓글 저장하기 (진행중)\n",
    "\n",
    "for b in range(1,3):\n",
    "    a = driver.find_element(By.XPATH,'/html/body/div[6]/div[3]/div/article/div/div[2]/div/div/div[2]/div[1]/ul/ul[%d]/div/li/div/div/div[2]/div[1]/span' % (b)).text\n",
    "    print(a)"
   ]
  },
  {
   "cell_type": "code",
   "execution_count": 26,
   "metadata": {},
   "outputs": [
    {
     "data": {
      "text/plain": [
       "['💚📷Photo by @iamyonghoon🏕발할#helsport#헬스포츠#camping#캠핑#발할#김레#패스빅#바랑에르캠프#바랑에르돔#헬스포츠텐트#감성캠핑#밀리캠핑#텐풍#헬스포츠크루',\n",
       " '*広角で撮るとものすごい広いテントに見えますね😳GWは昨年に続き雨予報…キャンプ行ってもまたこもりっきりになるのかな😢天気予報が変わることを祈り続けます🙏#ratelworks #waltent2 #キャンピングカー #バンライフ #キャンプ #夫婦キャンプ #幕内レイアウト #車中泊 #キャンプギア #camp #camper #outdoors #vanlife #rv #캠핑 #露營 #Lager #kamp #acampar #キャンプ好きな人と繋がりたい',\n",
       " '#협찬”툴레의 관심은 늘한가지,사람들이 아끼는 것을 옮길 때 그것을 도와주는 무언가“좋은 가방이 되고 싶은게 아니라, 당신의 소중한 물건을잘 지켜주고 싶다. 라는‘Bring your life’ 툴레✨6년전 툴레의 가이드포스트 75,65부터 버선트60, 캡스톤40, 올트레일35,25, 지금의 토피오40에 이르기까지 무수한 추억을 안겨준 툴레입니다!⭐️이번 토피오 컬랙션의 40리터 배낭은 1박을 요하는3계절 경량캠핑에 최적화 되어있어요!그 중 차별화 되는 부분이 등판과 토르소 조절 부분🤗✔️메쉬등판과 몸의 윤곽을 따라 이어지는 벨트로 시원함을유지하고 움직임이 쾌적합니다!✔️토르소 조절이 무척 간단해 계절마다 복장에 따른미세 토르소 조절이 필요할 시에 완벽한 피팅감을 느낄 수 있는편안함을 제공합니다. (개인적으로 가장 좋았던 부분)✔️어깨부분의 폼은 40리터급에서는 특별히 신경을 쓴편안함을 느낄 수 있었습니다!개인적으로 툴레배낭은 돌바닥에 깔고 의자로 사용해도, 패킹된 상태로 어느 부분을 잡더라도, 그 내구성에 대해서는 이미 수년간 저희집에서는 검증이 된 배낭이죠🤗당신의 소중한 무언가를 지켜줄 또 하나의 친구 툴레 토피오!꼭 체크해 보세요!\\U0001fae1Bringyourlife @thulekorea#thule #툴레 #툴레토피오 #토피오#캠핑 #백패킹 #등산 #등산배낭',\n",
       " '내가 좋아하는 하루아마 내가 100번이상 본 것 같다.와이프는 일기쓰는 마음이었다 했다.지나버린 하루라, 사라진 장소라.더욱 기억에 남는 그 날.아마 우리를 표현하기에 가장 적절하지않았나 싶다.부족한 아빠까지도 항상 투정없이 받아주는자연에서의 하룻밤을 생각하는 사람이 있다면,시작은 이렇게도 해보시면 어떨까 한다.유튜브채널 \\'나가야산다\\' 지난영상\"원시림, 가장 완벽했던 우중캠핑\" 편 이다.---‐--------------------------------------------#캠퍼 #가족캠퍼 #캠핑 #백패커 #가족캠핑#육아 #육아스타그램 #가족 #전투육아#오지캠핑 #낚시 #낚시캠핑 #노지캠핑#캠핑장비 #캠핑용품 #블랙다이아몬드#미션4 #터널텐트 #일상 #여행 #사랑#캠핑유튜브 #캠핑유튜버 #나가야산다',\n",
       " 'お昼はバーベキュー☺️那珂湊おさかな市場で美味しいホタテも買って😋美味しかったー❤️❤️#camp #outdoors #캠핑 #캠핑요리 #campcooking #キャンプ #キャンプ飯 #キャンプめし #キャンプメシ #キャンメシ #キャンプ料理 #バーベキュー #bbq #キャンプごはん #ひなたごはん #そとごはん #campic飯 #ファミキャン #ファミキャンピック #キャンプ女子 #キャンジョ #iyashi_camp #takibipic #camphack取材 #cample掲載希望 #ソトシル掲載希望 #ソトレシピ #大洗サンビーチキャンプ場',\n",
       " '#캠핑기록오랜만의 불멍피드⛺️🪵🔥장작 부피가 너무 나간다, 바람이 많이 분다, 비가 올 것 같다 등등..이 핑계 저 핑계대며 불멍에 소홀한 것 같네요\\U0001f979---',\n",
       " '🏕 #지쁘_캠핑장소개저희가 이번주에 다녀온 캠핑장은경기도 양평의 숲속 계곡 캠핑장{ #글렌252 } 입니다 @glen252_‘저희 엄마가 캠핑장을 운영하신다면이곳처럼 운영하실것같다’라는 생각이 들었던,잘 가꾸어진 예쁜 정원과깔끔한 편의시설이 인상깊었던 곳입니다✏️사이트강자갈사이트들과한개의 프라이빗한 계곡 위 데크사이트로 이루어져있어요옆으로 넓직한 스타일의 강자갈사이트는전체적으로 무척 넓직한 편 이에요(✔️여섯번째 영상참고-A-B-C-B 존 순서대로 보입니다)C~D존은 계곡 바로 앞에 위치해있고,A존과 B존은 그 위로 계단식으로 되어있어요직접 가서 보시면 배치도에서 보시는것보다계곡과 가깝다고 생각하실거에요,계곡가 캠핑장이다보니 차량이 진입할 수 있는공간이 한정적이라서 회차장이 있는데,회차장부터 사이트까지 비치된 카트로짐을 옮기셔야 합니다 하지만, 계단들도 야트막하고,짐바리라고 하기엔 그 거리가 생각보다 가까워서부담을 많이 안가지셔도 될것같아요~A-4사이트는 무척 프라이빗하고,A-3, A-2는 그늘이 정말 좋아서여름에 무척 좋을것같았어요옹기종기 사이트를 나누는 돌들도 아기자기하고강자갈의 컬러도 우리들의 캠프를 따스한 느낌으로 만들어줍니다사이트 하나하나에 대한 자세한 정보는캠핑장 인스타계정 프로필 링크 페이지 ‘공간소개’에자세히 적혀있어요저희가 이용한계곡 위 숨겨진 S-1사이트는사이트입구에 차량을 주차하고야트막한 계단 몇개를 내려가면 바로계곡 위에 떠있는 5mX9m의널찍한 데크를 만날 수 있습니다사이트 입구에 파랑색 집모양의 담벼락이 가려주어독립되어있고, 계곡물 흐르는 소리 말고는 들리지 않습니다바로 옆으로 계곡으로 내려가는 계단이 있고,저희는 날씨가 갑자기 더워 계곡에서물놀이도 하고 놀았어요^^수심은 무릎정도였고, 요즘이 봄가뭄으로일년 중 가장 얕을 시기라고 합니다아이들과 함께 캠핑하시는 가족캠퍼분들께정말 좋을것같아요캠프 아래로 아이들이 노는 모습을바로바로 지켜볼 수 있을것같습니다다른 사이트들과 금액적인 차이가 있지만그만큼 만족스러운 부분이 많은 사이트였습니다강자갈사이트쪽 운영은 금토일월 주말에만 운영하시고,계곡 위 S1사이트는 평일에도 운영하십니다✏️관리동과 편의동글렌252는 캠장님 부부 두 분께서만 관리를 하신다고 하셔서깜짝 놀랐었는데요,모든 시설이 무척 깔끔하게 정돈되어있던 부분도 그렇지만(✔️일곱번째영상참고)관리동에 글렌252카페와 매점이 큼직하게 있었기 때문이에요글렌252카페에서는 여자캠장님께서 음료제조도 해주시고,직접 만드신 쿠키류도 판매하셔요식빵을 예약하면다음날 아침9시에 찾아갈 수 있도록 만들어주시는데,캠핑아침에 뜨끈한 갓구운 식빵을 뜯어먹는 맛이란!정말 행복했습니다 (🍞오늘밤에 관련릴스 올릴게요)직접 만드신 잼도 토마토+딸기 조합이특별하고 맛있었습니다매점에서 장작 등 없는것 없이 판매하시고,이 관리동건물을 직접 캠장님 부부께서 지으셨다고 해요일일이 손 안간 곳이 없이 가꾸신 부분이 정말 대단해보였고,카페 내부와 테라스를 이용하기도 편안하고 좋았습니다관리동 앞마당은 잔디와 조경이 아름다워서 꽃구경하기도 좋았어요관리동 옆건물인 편의동은,개수대/남녀화장실+샤워실/분리수거장으로 이루어져있는데모든 시설이 더럽힐 수 없는,처음의 상태로 끝까지 유지하기를 응원하고싶을정도로깔끔함이 묻어있습니다캠퍼분들이 아침에 사용하실 때에불편한 마음 없이 사용하시기를 바라는 마음으로새벽 다섯시무렵에 일어나 정리하신다고 해요두 분께서 정성으로 가꾸시다보니,강자갈사이트를 금토일월에만 오픈하시는 이유를 이해할 수 있겠더라구요즐겁게 여유로운 마음으로 운영하시는거에요운영이 힘드신 부분도 있으시겠지만, 행복해보이셔서그 에너지에 저희도 덩달아 마음부자가 되었습니다✏️캠핑장이 전체적으로 꽃나무들이 크고 아름다워요짧은 시간이었지만 힐링다운 힐링을 하고 돌아올 수 있었습니다📍경기도 양평군 양동면 황거길 175🔔예약_ @glen252_계정 프로필에 쓰인 연락처로 문자. DM-X매일오후6시까지 운영/ 6시이후 연락은 익일 순차처리💸이용요금_7~14만원 선⏰체크인_13시/체크아웃_11시🙅🏻\\u200d♀️카라반/캠핑카/애견동반🙅🏻\\u200d♀️이 곳은 이용해보신 분들의 재방문이계속해서 이어지며벌써 장박이 차고있는 곳으로,편안하고 아늑하고 조용한 캠핑장을 좋아하시는 분들께추천드립니다 💚']"
      ]
     },
     "execution_count": 26,
     "metadata": {},
     "output_type": "execute_result"
    }
   ],
   "source": [
    "result=[]\n",
    "for i in post:\n",
    "    temp = i.replace('\\n','')\n",
    "    result.append(temp)\n",
    "result"
   ]
  },
  {
   "cell_type": "code",
   "execution_count": null,
   "metadata": {},
   "outputs": [],
   "source": []
  },
  {
   "cell_type": "code",
   "execution_count": null,
   "metadata": {},
   "outputs": [],
   "source": []
  },
  {
   "cell_type": "markdown",
   "metadata": {},
   "source": [
    "#### 게시글의 다음 페이지 누르기 방식 2개 + 누르기 이후 게시글 수집"
   ]
  },
  {
   "cell_type": "code",
   "execution_count": 9,
   "metadata": {},
   "outputs": [],
   "source": [
    "driver.find_element(By.XPATH,'/html/body/div[6]/div[2]/div/div/button').click() # 인스타 첫번째 게시글일 때 다음 페이지 클릭하기\n"
   ]
  },
  {
   "cell_type": "code",
   "execution_count": 19,
   "metadata": {},
   "outputs": [],
   "source": [
    "driver.find_element(By.XPATH,'/html/body/div[6]/div[2]/div/div[2]/button').click() # 다음 페이지 넘어간 이후 다음으로 넘어가기"
   ]
  },
  {
   "cell_type": "code",
   "execution_count": 20,
   "metadata": {},
   "outputs": [
    {
     "data": {
      "text/plain": [
       "['💚\\n📷Photo by @iamyonghoon\\n🏕발할\\n#helsport#헬스포츠\\n#camping#캠핑\\n#발할#김레#패스빅\\n#바랑에르캠프#바랑에르돔\\n#헬스포츠텐트\\n#감성캠핑#밀리캠핑#텐풍\\n#헬스포츠크루',\n",
       " '*\\n広角で撮るとものすごい広いテントに見えますね😳\\n\\nGWは昨年に続き雨予報…キャンプ行ってもまたこもりっきりになるのかな😢\\n\\n天気予報が変わることを祈り続けます🙏\\n\\n#ratelworks #waltent2 #キャンピングカー #バンライフ #キャンプ #夫婦キャンプ #幕内レイアウト #車中泊 #キャンプギア #camp #camper #outdoors #vanlife #rv #캠핑 #露營 #Lager #kamp #acampar #キャンプ好きな人と繋がりたい',\n",
       " '#협찬\\n”툴레의 관심은 늘한가지,\\n사람들이 아끼는 것을 옮길 때 그것을 도와주는 무언가“\\n\\n좋은 가방이 되고 싶은게 아니라, 당신의 소중한 물건을\\n잘 지켜주고 싶다. 라는\\n\\n‘Bring your life’ 툴레✨\\n\\n6년전 툴레의 가이드포스트 75,65부터 버선트60, 캡스톤40, 올트레일35,25, 지금의 토피오40에 이르기까지 무수한 추억을 안겨준 툴레입니다!\\n\\n⭐️이번 토피오 컬랙션의 40리터 배낭은 1박을 요하는\\n3계절 경량캠핑에 최적화 되어있어요!\\n\\n그 중 차별화 되는 부분이 등판과 토르소 조절 부분🤗\\n\\n✔️메쉬등판과 몸의 윤곽을 따라 이어지는 벨트로 시원함을\\n유지하고 움직임이 쾌적합니다!\\n\\n✔️토르소 조절이 무척 간단해 계절마다 복장에 따른\\n미세 토르소 조절이 필요할 시에 완벽한 피팅감을 느낄 수 있는\\n편안함을 제공합니다. (개인적으로 가장 좋았던 부분)\\n\\n✔️어깨부분의 폼은 40리터급에서는 특별히 신경을 쓴\\n편안함을 느낄 수 있었습니다!\\n\\n개인적으로 툴레배낭은 돌바닥에 깔고 의자로 사용해도, 패킹된 상태로 어느 부분을 잡더라도, 그 내구성에 대해서는 이미 수년간 저희집에서는 검증이 된 배낭이죠🤗\\n\\n당신의 소중한 무언가를 지켜줄 또 하나의 친구 툴레 토피오!\\n꼭 체크해 보세요!\\U0001fae1\\n\\nBringyourlife @thulekorea\\n\\n#thule #툴레 #툴레토피오 #토피오\\n#캠핑 #백패킹 #등산 #등산배낭',\n",
       " '내가 좋아하는 하루\\n\\n아마 내가 100번이상 본 것 같다.\\n와이프는 일기쓰는 마음이었다 했다.\\n\\n지나버린 하루라, 사라진 장소라.\\n더욱 기억에 남는 그 날.\\n아마 우리를 표현하기에 가장 적절하지\\n않았나 싶다.\\n\\n부족한 아빠까지도 항상 투정없이 받아주는\\n자연에서의 하룻밤을 생각하는 사람이 있다면,\\n\\n시작은 이렇게도 해보시면 어떨까 한다.\\n\\n유튜브채널 \\'나가야산다\\' 지난영상\\n\"원시림, 가장 완벽했던 우중캠핑\" 편 이다.\\n\\n---‐--------------------------------------------\\n\\n#캠퍼 #가족캠퍼 #캠핑 #백패커 #가족캠핑\\n#육아 #육아스타그램 #가족 #전투육아\\n#오지캠핑 #낚시 #낚시캠핑 #노지캠핑\\n#캠핑장비 #캠핑용품 #블랙다이아몬드\\n#미션4 #터널텐트 #일상 #여행 #사랑\\n#캠핑유튜브 #캠핑유튜버 #나가야산다',\n",
       " 'お昼はバーベキュー☺️\\n\\n那珂湊おさかな市場で美味しいホタテも買って😋\\n\\n美味しかったー❤️❤️\\n\\n#camp #outdoors #캠핑 #캠핑요리 #campcooking #キャンプ #キャンプ飯 #キャンプめし #キャンプメシ #キャンメシ #キャンプ料理 #バーベキュー #bbq #キャンプごはん #ひなたごはん #そとごはん #campic飯 #ファミキャン #ファミキャンピック #キャンプ女子 #キャンジョ #iyashi_camp #takibipic #camphack取材 #cample掲載希望 #ソトシル掲載希望 #ソトレシピ #大洗サンビーチキャンプ場',\n",
       " '#캠핑기록\\n\\n오랜만의 불멍피드⛺️🪵🔥\\n장작 부피가 너무 나간다, 바람이 많이 분다, 비가 올 것 같다 등등..\\n이 핑계 저 핑계대며 불멍에 소홀한 것 같네요\\U0001f979\\n\\n-\\n-\\n-',\n",
       " '🏕 #지쁘_캠핑장소개\\n저희가 이번주에 다녀온 캠핑장은\\n경기도 양평의 숲속 계곡 캠핑장\\n{ #글렌252 } 입니다 @glen252_\\n\\n‘저희 엄마가 캠핑장을 운영하신다면\\n이곳처럼 운영하실것같다’라는 생각이 들었던,\\n잘 가꾸어진 예쁜 정원과\\n깔끔한 편의시설이 인상깊었던 곳입니다\\n\\n✏️사이트\\n강자갈사이트들과\\n한개의 프라이빗한 계곡 위 데크사이트로 이루어져있어요\\n\\n옆으로 넓직한 스타일의 강자갈사이트는\\n전체적으로 무척 넓직한 편 이에요\\n(✔️여섯번째 영상참고-\\nA-B-C-B 존 순서대로 보입니다)\\nC~D존은 계곡 바로 앞에 위치해있고,\\nA존과 B존은 그 위로 계단식으로 되어있어요\\n직접 가서 보시면 배치도에서 보시는것보다\\n계곡과 가깝다고 생각하실거에요,\\n계곡가 캠핑장이다보니 차량이 진입할 수 있는\\n공간이 한정적이라서 회차장이 있는데,\\n회차장부터 사이트까지 비치된 카트로\\n짐을 옮기셔야 합니다 하지만, 계단들도 야트막하고,\\n짐바리라고 하기엔 그 거리가 생각보다 가까워서\\n부담을 많이 안가지셔도 될것같아요~\\nA-4사이트는 무척 프라이빗하고,\\nA-3, A-2는 그늘이 정말 좋아서\\n여름에 무척 좋을것같았어요\\n옹기종기 사이트를 나누는 돌들도 아기자기하고\\n강자갈의 컬러도 우리들의 캠프를 따스한 느낌으로 만들어줍니다\\n사이트 하나하나에 대한 자세한 정보는\\n캠핑장 인스타계정 프로필 링크 페이지 ‘공간소개’에\\n자세히 적혀있어요\\n\\n저희가 이용한\\n계곡 위 숨겨진 S-1사이트는\\n사이트입구에 차량을 주차하고\\n야트막한 계단 몇개를 내려가면 바로\\n계곡 위에 떠있는 5mX9m의\\n널찍한 데크를 만날 수 있습니다\\n사이트 입구에 파랑색 집모양의 담벼락이 가려주어\\n독립되어있고, 계곡물 흐르는 소리 말고는 들리지 않습니다\\n바로 옆으로 계곡으로 내려가는 계단이 있고,\\n저희는 날씨가 갑자기 더워 계곡에서\\n물놀이도 하고 놀았어요^^\\n수심은 무릎정도였고, 요즘이 봄가뭄으로\\n일년 중 가장 얕을 시기라고 합니다\\n아이들과 함께 캠핑하시는 가족캠퍼분들께\\n정말 좋을것같아요\\n캠프 아래로 아이들이 노는 모습을\\n바로바로 지켜볼 수 있을것같습니다\\n다른 사이트들과 금액적인 차이가 있지만\\n그만큼 만족스러운 부분이 많은 사이트였습니다\\n\\n강자갈사이트쪽 운영은 금토일월 주말에만 운영하시고,\\n계곡 위 S1사이트는 평일에도 운영하십니다\\n\\n✏️관리동과 편의동\\n글렌252는 캠장님 부부 두 분께서만 관리를 하신다고 하셔서\\n깜짝 놀랐었는데요,\\n모든 시설이 무척 깔끔하게 정돈되어있던 부분도 그렇지만\\n(✔️일곱번째영상참고)\\n관리동에 글렌252카페와 매점이 큼직하게 있었기 때문이에요\\n글렌252카페에서는 여자캠장님께서 음료제조도 해주시고,\\n직접 만드신 쿠키류도 판매하셔요\\n식빵을 예약하면\\n다음날 아침9시에 찾아갈 수 있도록 만들어주시는데,\\n캠핑아침에 뜨끈한 갓구운 식빵을 뜯어먹는 맛이란!\\n정말 행복했습니다 (🍞오늘밤에 관련릴스 올릴게요)\\n직접 만드신 잼도 토마토+딸기 조합이\\n특별하고 맛있었습니다\\n매점에서 장작 등 없는것 없이 판매하시고,\\n이 관리동건물을 직접 캠장님 부부께서 지으셨다고 해요\\n일일이 손 안간 곳이 없이 가꾸신 부분이 정말 대단해보였고,\\n카페 내부와 테라스를 이용하기도 편안하고 좋았습니다\\n관리동 앞마당은 잔디와 조경이 아름다워서 꽃구경하기도 좋았어요\\n\\n관리동 옆건물인 편의동은,\\n개수대/남녀화장실+샤워실/분리수거장으로 이루어져있는데\\n모든 시설이 더럽힐 수 없는,\\n처음의 상태로 끝까지 유지하기를 응원하고싶을정도로\\n깔끔함이 묻어있습니다\\n캠퍼분들이 아침에 사용하실 때에\\n불편한 마음 없이 사용하시기를 바라는 마음으로\\n새벽 다섯시무렵에 일어나 정리하신다고 해요\\n두 분께서 정성으로 가꾸시다보니,\\n강자갈사이트를 금토일월에만 오픈하시는 이유를 이해할 수 있겠더라구요\\n즐겁게 여유로운 마음으로 운영하시는거에요\\n운영이 힘드신 부분도 있으시겠지만, 행복해보이셔서\\n그 에너지에 저희도 덩달아 마음부자가 되었습니다\\n\\n✏️\\n캠핑장이 전체적으로 꽃나무들이 크고 아름다워요\\n짧은 시간이었지만 힐링다운 힐링을 하고 돌아올 수 있었습니다\\n\\n📍경기도 양평군 양동면 황거길 175\\n🔔예약_ @glen252_\\n계정 프로필에 쓰인 연락처로 문자. DM-X\\n매일오후6시까지 운영/ 6시이후 연락은 익일 순차처리\\n💸이용요금_7~14만원 선\\n⏰체크인_13시/체크아웃_11시\\n🙅🏻\\u200d♀️카라반/캠핑카/애견동반🙅🏻\\u200d♀️\\n\\n이 곳은 이용해보신 분들의 재방문이\\n계속해서 이어지며\\n벌써 장박이 차고있는 곳으로,\\n편안하고 아늑하고 조용한 캠핑장을 좋아하시는 분들께\\n추천드립니다 💚']"
      ]
     },
     "execution_count": 20,
     "metadata": {},
     "output_type": "execute_result"
    }
   ],
   "source": [
    "time.sleep(1)\n",
    "post.append(driver.find_element(By.CLASS_NAME, '_7UhW9.xLCgt.MMzan.KV-D4.se6yk.T0kll').text)  # 인스타 본문 내용 저장하기\n",
    "post"
   ]
  },
  {
   "cell_type": "markdown",
   "metadata": {},
   "source": [
    "# DB저장 "
   ]
  },
  {
   "cell_type": "code",
   "execution_count": 23,
   "metadata": {},
   "outputs": [
    {
     "name": "stdout",
     "output_type": "stream",
     "text": [
      "=== 접속 성공 =====\n"
     ]
    }
   ],
   "source": [
    "conn_str = \"host=localhost dbname=Instagram user=postgres password=admin port = 5432\" # dbname을 만들면 들어간다. port와 password는 변경가능\n",
    "try :\n",
    "    conn = psycopg2.connect(conn_str)\n",
    "    print(\"=== 접속 성공 =====\")\n",
    "except psycopg2. DatabaseError as db_err:\n",
    "    print(\"접속오류 !!\")\n",
    "    print(db_err)"
   ]
  },
  {
   "cell_type": "code",
   "execution_count": 24,
   "metadata": {},
   "outputs": [
    {
     "name": "stdout",
     "output_type": "stream",
     "text": [
      "생성 성공\n"
     ]
    }
   ],
   "source": [
    "cur = conn.cursor() #conn = 위에 나오듯 포스트그리 커넥션으로 연결을 말한다.\n",
    "try:\n",
    "    cur.execute('create table if not exists INSTA (num serial, top_post varchar(3000));')\n",
    "    conn.commit()                         #테이블 생성\n",
    "    print('생성 성공')\n",
    "except :\n",
    "    conn.rollback()\n",
    "    print('---DB error')"
   ]
  },
  {
   "cell_type": "code",
   "execution_count": 25,
   "metadata": {},
   "outputs": [
    {
     "name": "stdout",
     "output_type": "stream",
     "text": [
      "----- insert ok--\n",
      "----- insert ok--\n",
      "----- insert ok--\n",
      "----- insert ok--\n",
      "----- insert ok--\n",
      "----- insert ok--\n",
      "----- insert ok--\n"
     ]
    }
   ],
   "source": [
    "for i in range(len(result)):\n",
    "    try :\n",
    "        cur.execute('INSERT INTO INSTA (num,top_post) VALUES (%s, %s);',\n",
    "        ((i+1),result[i]))                         # 4개의 column에 번호와 연재일,제목,url추가\n",
    "        conn.commit()\n",
    "        print(\"----- insert ok--\")                                     \n",
    "    except :\n",
    "        conn. rollback()\n",
    "        print(\"--- DB error\")\n",
    "\n",
    "        \n",
    "# post = []        #모두 진행후 리스트 내용 제거"
   ]
  },
  {
   "cell_type": "code",
   "execution_count": null,
   "metadata": {},
   "outputs": [],
   "source": []
  },
  {
   "cell_type": "code",
   "execution_count": null,
   "metadata": {},
   "outputs": [],
   "source": []
  },
  {
   "cell_type": "code",
   "execution_count": null,
   "metadata": {},
   "outputs": [],
   "source": []
  },
  {
   "cell_type": "code",
   "execution_count": null,
   "metadata": {},
   "outputs": [],
   "source": []
  },
  {
   "cell_type": "code",
   "execution_count": null,
   "metadata": {},
   "outputs": [],
   "source": []
  },
  {
   "cell_type": "markdown",
   "metadata": {},
   "source": [
    "# 아래는 아직 무쓸모인 코드들"
   ]
  },
  {
   "cell_type": "code",
   "execution_count": 6,
   "metadata": {},
   "outputs": [],
   "source": [
    "\n",
    "\n",
    "\n",
    "reallink = []\n",
    "\n",
    "while True: # 반복문 시작\n",
    "    pageString = driver.page_source\n",
    "    bs = BeautifulSoup(pageString, \"lxml\")\n",
    "\n",
    "# 게시물 정보 \n",
    "    for link1 in bs.find_all(name=\"div\",attrs={\"class\":\"Nnq7C weEfm\"}):\n",
    "        title = link1.select('a')[0] \n",
    "        real = title.attrs['href']\n",
    "        reallink.append(real) \n",
    "        title = link1.select('a')[1] \n",
    "        real = title.attrs['href']\n",
    "        reallink.append(real) \n",
    "\n",
    "# 페이지 스크롤\n",
    "    last_height = driver.execute_script(\"return document.body.scrollHeight\")\n",
    "    driver.execute_script(\"window.scrollTo(0, document.body.scrollHeight);\")\n",
    "    #sleep(SCROLL_PAUSE_TIME)\n",
    "    new_height = driver.execute_script(\"return document.body.scrollHeight\")\n",
    "    if new_height == last_height:\n",
    "        driver.execute_script(\"window.scrollTo(0, document.body.scrollHeight);\")\n",
    "        sleep(SCROLL_PAUSE_TIME)\n",
    "        new_height = driver.execute_script(\"return document.body.scrollHeight\")\n",
    "        if new_height == last_height:\n",
    "            break\n",
    "            \n",
    "        else:\n",
    "            last_height = new_height\n",
    "            continue"
   ]
  },
  {
   "cell_type": "code",
   "execution_count": 124,
   "metadata": {},
   "outputs": [
    {
     "data": {
      "text/plain": [
       "[(1,\n",
       "  '요즘 트러블 없이 요로코롬\\n평화롭게 지내던 춘삼이와 나🤷🏻\\u200d♀️🤷🏻\\u200d♂️\\n\\n너무 평화롭다 싶더니\\n아니나 다를까 그제 냉삼 먹다가\\n한바탕 제대로 했다\\n\\n씩씩 거리며 카페로 가출했는데\\n코젤이 사진 보내며 살살 꼬시는 천춘삼님,,🥸\\n어유 증말,,,,,\\n\\n담엔 아이패드랑 야침들구\\n센팍으로 가출해야겠다😎'),\n",
       " (2,\n",
       "  '네이처하이크 TPU 에어매트\\n📣DM 톡톡문의\\n\\n✔️프로필상단링크클릭\\n\\n#하드캐리몰 #하드캐리 #구매대행 #해외배송 #스마트스토어 #빅파워스토어 #중국배송 #샤오미 #네이처하이크 #캠핑 #차박 #타프 #텐트 #에어텐트#에어매트 #발포매트 #텐트매트 #차박매트 #두꺼운캠핑매트 #네이처하이크에어매트 #백패킹매트 #캠핑매트용품 #에어매트리스'),\n",
       " (3,\n",
       "  '最近日中の写真練習中😆\\n\\nんで皿に乗せたホットサンドを @ninopeaks さんのヘキサテーブルに載せたらイマイチninoテーブルの良さが隠れる感じやったから直接テーブルにホットサンドのせたらばっちり🥰\\nうん、ばっちり妻に怒られたよ😖\\n\\n\\nアンバサダー\\n@camp.outdoor.jp\\n@gorim5050 @ninopeaks\\n@standardthestorage #CAMPONアンバサダー #campgear #キャンプ #camping #アウトドア #outdoor #自然 #田舎 #フュアハンド #DIETZ #ペトロマックス #camp #焚き火 #followme #캠핑 #キャンプ好きな人とつながりたい #ファミキャン #冬キャンプ #ランタン #雰囲気 #サバティカル #ビンテージランタン #スカイパイロットtc #ガレージブランド #CIRCUS #サーカス720\\n#ホットサンド #ヨーデルめんたいスパイス\\n@yodell.outdoor たっぷりのホットサンド'),\n",
       " (4, '출근해라냥~ 오늘도화이팅\\n#니팔자가부럽소 #화이팅 #일상 #야옹이 #고양이 #집사 #캠핑 #캠핑용품 #캠퍼캠핑'),\n",
       " (5,\n",
       "  '#꽃등심 #싱싱정육점 #한우\\n✔️ 한우 1++ 꽃등심 (기름손질깔끔하게)\\n✔️ 파채.소스 서비스!!\\n✔️ 한우선물셋트.한돈선물셋트\\n✔️ 한우고기케이크. 한돈고기케이크\\n✔️ 한우특수부위 주문예약\\n✔️ 한우육회 . 육사시미 주문예약\\n✔️ 전국 택배가능 (택배비별도 5,000원)\\n✔️ 미리연락주시면 정성을다해 준비하겠습니다.\\n\\n🌟 언제나 최선을 다하겠습니다. 🌟\\n\\n구매문의⬇️\\n☎️ 010 2345 8754\\n💬 카카오톡 채팅\\n언제든지 카톡남겨주시면 친절하게 답변드리겠습니다.\\n\\n#한우선물셋트 #한우오마카세 #한우특수부위 #한우고기케이크 #한돈선물셋트 #한돈고기케이크 #한돈특수부위 #고기맛집\\n#고기스타그램 #이매동 #야탑동 #분당맛집 #분당 #신도시 #경기도 #전국택배 #지인선물 #특별한선물 #감사선물 #스승의날 #어버이날\\n#일상 #공유 #캠핑 #감성 #여행')]"
      ]
     },
     "execution_count": 124,
     "metadata": {},
     "output_type": "execute_result"
    }
   ],
   "source": [
    "post_index = []   # 포스트를 얻어온 것에 인덱스를 붙여 파악하려고 했으나 데이터 프레임을 만드니 필요가 없다...\n",
    "for index, value in enumerate(post):\n",
    "    post_index.append(index+1)\n",
    "post_index\n",
    "\n",
    "a=list(zip(post_index,post))\n",
    "a"
   ]
  },
  {
   "cell_type": "code",
   "execution_count": null,
   "metadata": {},
   "outputs": [],
   "source": []
  },
  {
   "cell_type": "markdown",
   "metadata": {},
   "source": [
    "### 데이터프레임화하여 엔터를 replace. 추후 변경가능"
   ]
  },
  {
   "cell_type": "code",
   "execution_count": 27,
   "metadata": {},
   "outputs": [
    {
     "data": {
      "text/html": [
       "<div>\n",
       "<style scoped>\n",
       "    .dataframe tbody tr th:only-of-type {\n",
       "        vertical-align: middle;\n",
       "    }\n",
       "\n",
       "    .dataframe tbody tr th {\n",
       "        vertical-align: top;\n",
       "    }\n",
       "\n",
       "    .dataframe thead th {\n",
       "        text-align: right;\n",
       "    }\n",
       "</style>\n",
       "<table border=\"1\" class=\"dataframe\">\n",
       "  <thead>\n",
       "    <tr style=\"text-align: right;\">\n",
       "      <th></th>\n",
       "      <th>post</th>\n",
       "    </tr>\n",
       "  </thead>\n",
       "  <tbody>\n",
       "    <tr>\n",
       "      <th>0</th>\n",
       "      <td>*広角で撮るとものすごい広いテントに見えますね😳GWは昨年に続き雨予報…キャンプ行ってもまた...</td>\n",
       "    </tr>\n",
       "    <tr>\n",
       "      <th>1</th>\n",
       "      <td>#협찬”툴레의 관심은 늘한가지,사람들이 아끼는 것을 옮길 때 그것을 도와주는 무언가...</td>\n",
       "    </tr>\n",
       "    <tr>\n",
       "      <th>2</th>\n",
       "      <td>お昼はバーベキュー☺️那珂湊おさかな市場で美味しいホタテも買って😋美味しかったー❤️❤️#c...</td>\n",
       "    </tr>\n",
       "    <tr>\n",
       "      <th>3</th>\n",
       "      <td>내가 좋아하는 하루아마 내가 100번이상 본 것 같다.와이프는 일기쓰는 마음이었다 ...</td>\n",
       "    </tr>\n",
       "    <tr>\n",
       "      <th>4</th>\n",
       "      <td>내가 좋아하는 하루아마 내가 100번이상 본 것 같다.와이프는 일기쓰는 마음이었다 ...</td>\n",
       "    </tr>\n",
       "    <tr>\n",
       "      <th>5</th>\n",
       "      <td>🏕 #지쁘_캠핑장소개저희가 이번주에 다녀온 캠핑장은경기도 양평의 숲속 계곡 캠핑장{...</td>\n",
       "    </tr>\n",
       "  </tbody>\n",
       "</table>\n",
       "</div>"
      ],
      "text/plain": [
       "                                                post\n",
       "0  *広角で撮るとものすごい広いテントに見えますね😳GWは昨年に続き雨予報…キャンプ行ってもまた...\n",
       "1  #협찬”툴레의 관심은 늘한가지,사람들이 아끼는 것을 옮길 때 그것을 도와주는 무언가...\n",
       "2  お昼はバーベキュー☺️那珂湊おさかな市場で美味しいホタテも買って😋美味しかったー❤️❤️#c...\n",
       "3  내가 좋아하는 하루아마 내가 100번이상 본 것 같다.와이프는 일기쓰는 마음이었다 ...\n",
       "4  내가 좋아하는 하루아마 내가 100번이상 본 것 같다.와이프는 일기쓰는 마음이었다 ...\n",
       "5  🏕 #지쁘_캠핑장소개저희가 이번주에 다녀온 캠핑장은경기도 양평의 숲속 계곡 캠핑장{..."
      ]
     },
     "execution_count": 27,
     "metadata": {},
     "output_type": "execute_result"
    }
   ],
   "source": [
    "df = pd.DataFrame(result, columns = ['post']) # 현재 본문글만 긁어서 저장만 했음\n",
    "df"
   ]
  },
  {
   "cell_type": "code",
   "execution_count": 28,
   "metadata": {},
   "outputs": [
    {
     "data": {
      "text/html": [
       "<div>\n",
       "<style scoped>\n",
       "    .dataframe tbody tr th:only-of-type {\n",
       "        vertical-align: middle;\n",
       "    }\n",
       "\n",
       "    .dataframe tbody tr th {\n",
       "        vertical-align: top;\n",
       "    }\n",
       "\n",
       "    .dataframe thead th {\n",
       "        text-align: right;\n",
       "    }\n",
       "</style>\n",
       "<table border=\"1\" class=\"dataframe\">\n",
       "  <thead>\n",
       "    <tr style=\"text-align: right;\">\n",
       "      <th></th>\n",
       "      <th>post</th>\n",
       "    </tr>\n",
       "  </thead>\n",
       "  <tbody>\n",
       "    <tr>\n",
       "      <th>0</th>\n",
       "      <td>*広角で撮るとものすごい広いテントに見えますね😳GWは昨年に続き雨予報…キャンプ行ってもまた...</td>\n",
       "    </tr>\n",
       "    <tr>\n",
       "      <th>1</th>\n",
       "      <td>#협찬”툴레의 관심은 늘한가지,사람들이 아끼는 것을 옮길 때 그것을 도와주는 무언가...</td>\n",
       "    </tr>\n",
       "    <tr>\n",
       "      <th>2</th>\n",
       "      <td>お昼はバーベキュー☺️那珂湊おさかな市場で美味しいホタテも買って😋美味しかったー❤️❤️#c...</td>\n",
       "    </tr>\n",
       "    <tr>\n",
       "      <th>3</th>\n",
       "      <td>내가 좋아하는 하루아마 내가 100번이상 본 것 같다.와이프는 일기쓰는 마음이었다 ...</td>\n",
       "    </tr>\n",
       "    <tr>\n",
       "      <th>4</th>\n",
       "      <td>내가 좋아하는 하루아마 내가 100번이상 본 것 같다.와이프는 일기쓰는 마음이었다 ...</td>\n",
       "    </tr>\n",
       "    <tr>\n",
       "      <th>5</th>\n",
       "      <td>🏕 #지쁘_캠핑장소개저희가 이번주에 다녀온 캠핑장은경기도 양평의 숲속 계곡 캠핑장{...</td>\n",
       "    </tr>\n",
       "  </tbody>\n",
       "</table>\n",
       "</div>"
      ],
      "text/plain": [
       "                                                post\n",
       "0  *広角で撮るとものすごい広いテントに見えますね😳GWは昨年に続き雨予報…キャンプ行ってもまた...\n",
       "1  #협찬”툴레의 관심은 늘한가지,사람들이 아끼는 것을 옮길 때 그것을 도와주는 무언가...\n",
       "2  お昼はバーベキュー☺️那珂湊おさかな市場で美味しいホタテも買って😋美味しかったー❤️❤️#c...\n",
       "3  내가 좋아하는 하루아마 내가 100번이상 본 것 같다.와이프는 일기쓰는 마음이었다 ...\n",
       "4  내가 좋아하는 하루아마 내가 100번이상 본 것 같다.와이프는 일기쓰는 마음이었다 ...\n",
       "5  🏕 #지쁘_캠핑장소개저희가 이번주에 다녀온 캠핑장은경기도 양평의 숲속 계곡 캠핑장{..."
      ]
     },
     "execution_count": 28,
     "metadata": {},
     "output_type": "execute_result"
    }
   ],
   "source": [
    "df['post']=df['post'].str.replace('\\n', ' ')\n",
    "df"
   ]
  },
  {
   "cell_type": "code",
   "execution_count": null,
   "metadata": {},
   "outputs": [],
   "source": []
  },
  {
   "cell_type": "code",
   "execution_count": null,
   "metadata": {},
   "outputs": [],
   "source": []
  },
  {
   "cell_type": "markdown",
   "metadata": {},
   "source": [
    "##### 댓글 관련"
   ]
  },
  {
   "cell_type": "code",
   "execution_count": null,
   "metadata": {},
   "outputs": [
    {
     "data": {
      "text/plain": [
       "'일단 레쓰고고이죠 🤭🤭🥰🥰'"
      ]
     },
     "metadata": {},
     "output_type": "display_data"
    }
   ],
   "source": [
    "# 게시글의 맨 처음 댓글\n",
    "driver.find_element(By.XPATH,'/html/body/div[6]/div[3]/div/article/div/div[2]/div/div/div[2]/div[1]/ul/ul[1]/div/li/div/div/div[2]/div[1]/span').text"
   ]
  },
  {
   "cell_type": "code",
   "execution_count": null,
   "metadata": {},
   "outputs": [
    {
     "data": {
      "text/plain": [
       "'@yunsu880925 맨투맨 입기도 전에 반팔을 꺼내봅니다....🥲'"
      ]
     },
     "metadata": {},
     "output_type": "display_data"
    }
   ],
   "source": [
    "# 맨 처음 댓글의 답글남기기 텍스트\n",
    "driver.find_element(By.XPATH,'/html/body/div[6]/div[3]/div/article/div/div[2]/div/div/div[2]/div[1]/ul/ul[1]/li/ul/div/li/div/div/div[2]/div[1]/span').text"
   ]
  }
 ],
 "metadata": {
  "interpreter": {
   "hash": "9164a3399a70d355c381b62813f30880ed90ca5a6f321bf0d85375640bda7ee5"
  },
  "kernelspec": {
   "display_name": "Python 3.7.9 64-bit",
   "language": "python",
   "name": "python3"
  },
  "language_info": {
   "codemirror_mode": {
    "name": "ipython",
    "version": 3
   },
   "file_extension": ".py",
   "mimetype": "text/x-python",
   "name": "python",
   "nbconvert_exporter": "python",
   "pygments_lexer": "ipython3",
   "version": "3.9.7"
  },
  "orig_nbformat": 4
 },
 "nbformat": 4,
 "nbformat_minor": 2
}
