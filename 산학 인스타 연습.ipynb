{
 "cells": [
  {
   "cell_type": "code",
   "execution_count": 1,
   "metadata": {},
   "outputs": [],
   "source": [
    "from bs4 import BeautifulSoup\n",
    "import selenium.webdriver as webdriver\n",
    "from selenium.webdriver import ActionChains\n",
    "from selenium.webdriver.common.keys import Keys\n",
    "from selenium.webdriver.common.by import By\n",
    "import urllib.parse\n",
    "from urllib.request import Request, urlopen\n",
    "import time\n",
    "import pandas as pd\n"
   ]
  },
  {
   "cell_type": "markdown",
   "metadata": {},
   "source": [
    "## 인스타그램 검색어로 찾기"
   ]
  },
  {
   "cell_type": "code",
   "execution_count": 2,
   "metadata": {},
   "outputs": [],
   "source": [
    "search = input(\"검색어를 입력하세요 : \" )\n",
    "searching = str(search)\n",
    "search = urllib.parse.quote(search)\n",
    "url = 'https://www.instagram.com/explore/tags/'+str(search)+'/'\n",
    "driver = webdriver.Chrome()\n",
    "\n",
    "driver.get(url) #검색어 입력한 인스타그램 url 저장\n",
    "time.sleep(6) #로딩 시간을 위한 속도조절 \n",
    "\n",
    "SCROLL_PAUSE_TIME = 1.2  #인스타게시물 스크롤 속도 조절 ( 1.0 ~ 2.0까지 사양에 맞게 조절 )"
   ]
  },
  {
   "cell_type": "markdown",
   "metadata": {},
   "source": [
    "## 로그인"
   ]
  },
  {
   "cell_type": "code",
   "execution_count": 3,
   "metadata": {},
   "outputs": [],
   "source": [
    "driver.find_element(By.XPATH, '//*[@id=\"react-root\"]/section/nav/div[2]/div/div/div[3]/div/span/a[1]/button/div').click()# 로그인 박스 클릭\n",
    "username = input()\n",
    "password = input()                                                                                  # 로그인 아이디,패스워드 입력\n",
    "driver.find_element(By.XPATH, '//*[@id=\"loginForm\"]/div/div[1]/div/label/input').click()            # ID 공란 클릭\n",
    "ID = driver.find_element(By.XPATH, '//*[@id=\"loginForm\"]/div/div[1]/div/label/input')\n",
    "ID.send_keys(username)                                                                              # 아이디 입력\n",
    "driver.find_element(By.XPATH, '//*[@id=\"loginForm\"]/div/div[2]/div/label/input').click()            # password 공란 클릭\n",
    "passkey=driver.find_element(By.XPATH, '//*[@id=\"loginForm\"]/div/div[2]/div/label/input')\n",
    "passkey.send_keys(password)                                                                         # 패스워드 입력\n",
    "time.sleep(1)                                                           \n",
    "driver.find_element(By.XPATH, '//*[@id=\"loginForm\"]/div/div[3]/button/div').click()                 # 로그인\n",
    "time.sleep(5)                                                                                       # 로딩 대기 시간\n",
    "driver.find_element(By.XPATH, '//*[@id=\"react-root\"]/section/main/div/div/div/div/button').click()  # 로그인 이후 뜨는 정보저장 무시"
   ]
  },
  {
   "cell_type": "markdown",
   "metadata": {},
   "source": [
    "## 게시글 클릭하여 본문과 댓글 크롤링"
   ]
  },
  {
   "cell_type": "code",
   "execution_count": 60,
   "metadata": {},
   "outputs": [],
   "source": [
    "driver.find_element(By.CLASS_NAME,'_9AhH0').click()  # 첫게시글 클릭"
   ]
  },
  {
   "cell_type": "code",
   "execution_count": 61,
   "metadata": {},
   "outputs": [
    {
     "data": {
      "text/plain": [
       "['2022. 04. 28\\n\\n오예! 다음 캠핑 일정도 빠르게 정했다!\\n5월 황금연휴 캠핑 🏕⛺️\\nㅋㅋㅋ 그런데 아직 휴가 신청도 안했고, 캠핑장 예약도 안했다는....😰😰\\n뭐 될때로 되겄지 모 ㅋㅋ\\n일단 못 먹어도 고~~~~🤓\\n\\n#캠핑\\n#감성캠핑\\n#와일드캠핑\\n#오토캠핑\\n#가족캠핑\\n#미니멀캠핑']"
      ]
     },
     "execution_count": 61,
     "metadata": {},
     "output_type": "execute_result"
    }
   ],
   "source": [
    "main = []\n",
    "main.append(driver.find_element(By.CLASS_NAME, '_7UhW9.xLCgt.MMzan.KV-D4.se6yk.T0kll').text)  # 인스타 본문 내용 저장하기\n",
    "main"
   ]
  },
  {
   "cell_type": "code",
   "execution_count": 64,
   "metadata": {},
   "outputs": [
    {
     "name": "stdout",
     "output_type": "stream",
     "text": [
      "일단 레쓰고고이죠 🤭🤭🥰🥰\n",
      "5월은 캠핑일정 중에 젤 바쁜날같아요ㅋㅋ\n"
     ]
    }
   ],
   "source": [
    "# 인스타 댓글 저장하기 (진행중)\n",
    "\n",
    "for b in range(1,3):\n",
    "    a = driver.find_element(By.XPATH,'/html/body/div[6]/div[3]/div/article/div/div[2]/div/div/div[2]/div[1]/ul/ul[%d]/div/li/div/div/div[2]/div[1]/span' % (b)).text\n",
    "    print(a)"
   ]
  },
  {
   "cell_type": "markdown",
   "metadata": {},
   "source": [
    "#### 게시글의 다음 페이지 누르기 방식 2개 + 누르기 이후 게시글 수집"
   ]
  },
  {
   "cell_type": "code",
   "execution_count": 35,
   "metadata": {},
   "outputs": [],
   "source": [
    "driver.find_element(By.XPATH,'/html/body/div[6]/div[2]/div/div/button').click() # 인스타 첫번째 게시글일 때 다음 페이지 클릭하기"
   ]
  },
  {
   "cell_type": "code",
   "execution_count": 45,
   "metadata": {},
   "outputs": [],
   "source": [
    "driver.find_element(By.XPATH,'/html/body/div[6]/div[2]/div/div[2]/button').click() # 다음 페이지 넘어간 이후 다음으로 넘어가기"
   ]
  },
  {
   "cell_type": "code",
   "execution_count": 46,
   "metadata": {},
   "outputs": [
    {
     "data": {
      "text/plain": [
       "['2022. 04. 28\\n\\n오예! 다음 캠핑 일정도 빠르게 정했다!\\n5월 황금연휴 캠핑 🏕⛺️\\nㅋㅋㅋ 그런데 아직 휴가 신청도 안했고, 캠핑장 예약도 안했다는....😰😰\\n뭐 될때로 되겄지 모 ㅋㅋ\\n일단 못 먹어도 고~~~~🤓\\n\\n#캠핑\\n#감성캠핑\\n#와일드캠핑\\n#오토캠핑\\n#가족캠핑\\n#미니멀캠핑',\n",
       " '',\n",
       " '#협찬 맑은내일 시그니처 발효막걸리\\n\\n탁주 생막걸리 부문 대상을 수상한 막걸리를 소개합니다\\n깊고 진한 발효로 묵직한 우유크림 같고,\\n상큼한 과일향과 쌀에서 만들어진 단맛,적절한 신맛\\n\\n알콜도수 6.5% 로 가볍게 즐길수 있어요🤍\\n\\n☑️ 추천 온도. 5도~ 10도로 너무 차갑지 않은 온도\\n☑️ 특수 통기캡 사용하여 적당한 탄산을 보존합니다.\\n꼭 세워서 보관하세요\\n☑️ 시그니처 막걸리 굿즈로 플라스틱 샴페인잔 증정!\\n\\n구입문의 @good_tomorrow.official',\n",
       " '다들 퇴근하시죠??\\n전 이제 저녁먹을 준비할랍니다 ㅎㅎㅎ\\n.\\n.\\n#평캠\\n#평일캠\\n#평일캠핑\\n#평일에캠핑가자\\n#찌누찌누\\n#스프링바\\n#스프링바컴팩트\\n#면타프\\n#면텐트\\n#camping\\n#camper\\n#캠핑\\n#캠퍼\\n#따봄캠핑장\\n@ddabom_camping',\n",
       " '𝑟𝑖𝑚𝑖𝑑𝑑𝑜𝑜 𝑐𝑎𝑚𝑝𝑖𝑛𝑔 ☺︎︎\\n\\n하 내 힐링존 너모너모 기여워 ت',\n",
       " '.•°¤*ᴊᴊᴏʙᴏɴɢ_ᴄᴀᴍᴘɪɴɢ*¤°•.\\n봄을 돌려달랏‼️💚\\n\\n오늘 갑자기 날이 매우 덥네요🥵\\n봄캠핑을 채 몇번도 즐겨보기 전에\\n여름이 온것만 같아효....🥲\\n더위에 취약한 저는 웁니다😭\\n여름캠은 비수기인데 곧인가바여^^^^🔥\\n이런날 기온차로 감기걸리지 않게 조심‼️\\n즐퇴후 오늘 하루도 잘 마무리 하시구\\n즐겁고 햅삐한 저녁 보내세용😊😊🧡💛\\n\\n#캠핑 #캠퍼 #캠핑스타그램 #감성캠핑 #캠핑장 #캠핑장추천 #캠핑장비 #캠핑용품 #캠핑세팅 #캠핑소품 #랜턴 #캠핑족 #캠린이 #피크닉 #여행스타그램 #여행에미치다 #캠핑에미치다 #좋아요 #인친 #맞팔 #선팔 #좋반 #좋테 #일상 #데일리 #소통 #소통해요 #쪼봉캠핑']"
      ]
     },
     "execution_count": 46,
     "metadata": {},
     "output_type": "execute_result"
    }
   ],
   "source": [
    "main.append(driver.find_element(By.CLASS_NAME, '_7UhW9.xLCgt.MMzan.KV-D4.se6yk.T0kll').text)  # 인스타 본문 내용 저장하기\n",
    "main"
   ]
  },
  {
   "cell_type": "markdown",
   "metadata": {},
   "source": [
    "##### 댓글 관련"
   ]
  },
  {
   "cell_type": "code",
   "execution_count": 65,
   "metadata": {},
   "outputs": [
    {
     "data": {
      "text/plain": [
       "'일단 레쓰고고이죠 🤭🤭🥰🥰'"
      ]
     },
     "execution_count": 65,
     "metadata": {},
     "output_type": "execute_result"
    }
   ],
   "source": [
    "# 게시글의 맨 처음 댓글\n",
    "driver.find_element(By.XPATH,'/html/body/div[6]/div[3]/div/article/div/div[2]/div/div/div[2]/div[1]/ul/ul[1]/div/li/div/div/div[2]/div[1]/span').text"
   ]
  },
  {
   "cell_type": "code",
   "execution_count": 50,
   "metadata": {},
   "outputs": [
    {
     "data": {
      "text/plain": [
       "'@yunsu880925 맨투맨 입기도 전에 반팔을 꺼내봅니다....🥲'"
      ]
     },
     "execution_count": 50,
     "metadata": {},
     "output_type": "execute_result"
    }
   ],
   "source": [
    "# 맨 처음 댓글의 답글남기기 텍스트\n",
    "driver.find_element(By.XPATH,'/html/body/div[6]/div[3]/div/article/div/div[2]/div/div/div[2]/div[1]/ul/ul[1]/li/ul/div/li/div/div/div[2]/div[1]/span').text"
   ]
  },
  {
   "cell_type": "code",
   "execution_count": null,
   "metadata": {},
   "outputs": [],
   "source": []
  },
  {
   "cell_type": "code",
   "execution_count": null,
   "metadata": {},
   "outputs": [],
   "source": []
  },
  {
   "cell_type": "code",
   "execution_count": null,
   "metadata": {},
   "outputs": [],
   "source": []
  },
  {
   "cell_type": "code",
   "execution_count": null,
   "metadata": {},
   "outputs": [],
   "source": []
  },
  {
   "cell_type": "code",
   "execution_count": null,
   "metadata": {},
   "outputs": [],
   "source": []
  },
  {
   "cell_type": "code",
   "execution_count": null,
   "metadata": {},
   "outputs": [],
   "source": []
  },
  {
   "cell_type": "markdown",
   "metadata": {},
   "source": [
    "# 아래는 아직 무쓸모인 코드들"
   ]
  },
  {
   "cell_type": "code",
   "execution_count": 6,
   "metadata": {},
   "outputs": [],
   "source": [
    "\n",
    "\n",
    "\n",
    "reallink = []\n",
    "\n",
    "while True: # 반복문 시작\n",
    "    pageString = driver.page_source\n",
    "    bs = BeautifulSoup(pageString, \"lxml\")\n",
    "\n",
    "# 게시물 정보 \n",
    "    for link1 in bs.find_all(name=\"div\",attrs={\"class\":\"Nnq7C weEfm\"}):\n",
    "        title = link1.select('a')[0] \n",
    "        real = title.attrs['href']\n",
    "        reallink.append(real) \n",
    "        title = link1.select('a')[1] \n",
    "        real = title.attrs['href']\n",
    "        reallink.append(real) \n",
    "\n",
    "# 페이지 스크롤\n",
    "    last_height = driver.execute_script(\"return document.body.scrollHeight\")\n",
    "    driver.execute_script(\"window.scrollTo(0, document.body.scrollHeight);\")\n",
    "    #sleep(SCROLL_PAUSE_TIME)\n",
    "    new_height = driver.execute_script(\"return document.body.scrollHeight\")\n",
    "    if new_height == last_height:\n",
    "        driver.execute_script(\"window.scrollTo(0, document.body.scrollHeight);\")\n",
    "        sleep(SCROLL_PAUSE_TIME)\n",
    "        new_height = driver.execute_script(\"return document.body.scrollHeight\")\n",
    "        if new_height == last_height:\n",
    "            break\n",
    "            \n",
    "        else:\n",
    "            last_height = new_height\n",
    "            continue"
   ]
  },
  {
   "cell_type": "code",
   "execution_count": null,
   "metadata": {},
   "outputs": [],
   "source": []
  }
 ],
 "metadata": {
  "interpreter": {
   "hash": "9164a3399a70d355c381b62813f30880ed90ca5a6f321bf0d85375640bda7ee5"
  },
  "kernelspec": {
   "display_name": "Python 3.7.9 64-bit",
   "language": "python",
   "name": "python3"
  },
  "language_info": {
   "codemirror_mode": {
    "name": "ipython",
    "version": 3
   },
   "file_extension": ".py",
   "mimetype": "text/x-python",
   "name": "python",
   "nbconvert_exporter": "python",
   "pygments_lexer": "ipython3",
   "version": "3.9.7"
  },
  "orig_nbformat": 4
 },
 "nbformat": 4,
 "nbformat_minor": 2
}
